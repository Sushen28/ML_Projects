{
  "nbformat": 4,
  "nbformat_minor": 0,
  "metadata": {
    "colab": {
      "provenance": [],
      "authorship_tag": "ABX9TyOHZEDuf8RvIUdmtDZfIGZ5",
      "include_colab_link": true
    },
    "kernelspec": {
      "name": "python3",
      "display_name": "Python 3"
    },
    "language_info": {
      "name": "python"
    }
  },
  "cells": [
    {
      "cell_type": "markdown",
      "metadata": {
        "id": "view-in-github",
        "colab_type": "text"
      },
      "source": [
        "<a href=\"https://colab.research.google.com/github/Sushen28/ML_Projects/blob/main/FINDING_EDGES_USING_KERNELS.ipynb\" target=\"_parent\"><img src=\"https://colab.research.google.com/assets/colab-badge.svg\" alt=\"Open In Colab\"/></a>"
      ]
    },
    {
      "cell_type": "code",
      "execution_count": null,
      "metadata": {
        "id": "GTBRJRT_Ntst"
      },
      "outputs": [],
      "source": [
        "import matplotlib.pyplot as plt\n",
        "import matplotlib.image as mpimg\n",
        "\n",
        "import cv2\n",
        "import numpy as np\n",
        "\n",
        "%matplotlib inline\n",
        "\n",
        "# Read in the image\n",
        "image = mpimg.imread('IMG_SRC')\n",
        "\n",
        "plt.imshow(image)"
      ]
    },
    {
      "cell_type": "code",
      "source": [
        "# Convert to grayscale for filtering\n",
        "gray = cv2.cvtColor(image, cv2.COLOR_RGB2GRAY)\n",
        "\n",
        "plt.imshow(gray, cmap='gray')"
      ],
      "metadata": {
        "id": "rTLDTwLpNx9i"
      },
      "execution_count": null,
      "outputs": []
    },
    {
      "cell_type": "code",
      "source": [
        "# Create a custom kernel\n",
        "\n",
        "# 3x3 array for edge detection\n",
        "sobel_y = np.array([[ -1, -2, -1],\n",
        "                   [ 0, 0, 0],\n",
        "                   [ 1, 2, 1]])\n",
        "\n",
        "## TODO: Create and apply a Sobel x operator\n",
        "sobel_x = np.array([[ -1, 0, 1],\n",
        "                   [ -2, 0, 2],\n",
        "                   [ -1, 0, 1]])\n",
        "\n",
        "# Filter the image using filter2D, which has inputs: (grayscale image, bit-depth, kernel)\n",
        "filtered_image = cv2.filter2D(gray, -1, sobel_y)\n",
        "\n",
        "# Filter the image using filter2D, which has inputs: (grayscale image, bit-depth, kernel)\n",
        "filtered_image_2 = cv2.filter2D(gray, -1, sobel_x)\n",
        "\n",
        "plt.figure(figsize = (15,15))\n",
        "plt.imshow(filtered_image, cmap='gray')\n",
        "plt.title(\"sobel y\")\n",
        "plt.show()\n",
        "\n",
        "plt.figure(figsize = (15,15))\n",
        "plt.imshow(filtered_image_2, cmap='gray')\n",
        "plt.title(\"sobel x\")\n",
        "plt.show()\n",
        "\n",
        "blur_filter = np.array([[ 0.05, 0.2, 0.05],\n",
        "                        [ 0.2, 0.2, 0.2],\n",
        "                        [ 0.05, 0.2, 0.05]])\n",
        "\n",
        "# Filter the image using filter2D, which has inputs: (grayscale image, bit-depth, kernel)\n",
        "filtered_image_blur = cv2.filter2D(gray, -1, blur_filter)\n",
        "\n",
        "plt.figure(figsize = (15,15))\n",
        "plt.imshow(filtered_image_blur, cmap='gray')\n",
        "plt.title(\"blur\")\n",
        "plt.show()\n",
        "\n",
        "edge_detection = np.array([[ 0.0, -1, 0],\n",
        "                        [ -1, 4, -1],\n",
        "                        [ 0, -1, 0]])\n",
        "# Filter the image using filter2D, which has inputs: (grayscale image, bit-depth, kernel)\n",
        "filtered_image_edges = cv2.filter2D(filtered_image_blur, -1, edge_detection)\n",
        "\n",
        "plt.figure(figsize = (15,15))\n",
        "plt.imshow(filtered_image_edges, cmap='gray')\n",
        "plt.title(\"edge detection\")\n",
        "plt.show()\n"
      ],
      "metadata": {
        "id": "CkyoqpsENx7E"
      },
      "execution_count": null,
      "outputs": []
    },
    {
      "cell_type": "markdown",
      "source": [
        "Create a filter with decimal value weights.\n",
        "Create a 5x5 filter\n",
        "Apply your filters to the other images in the images directory."
      ],
      "metadata": {
        "id": "j_STg-3POM2W"
      }
    },
    {
      "cell_type": "code",
      "source": [
        "# Read in the image\n",
        "image_2 = mpimg.imread('images/white_lines.jpg')\n",
        "\n",
        "# Convert to grayscale for filtering\n",
        "gray_2 = cv2.cvtColor(image_2, cv2.COLOR_RGB2GRAY)\n",
        "\n",
        "plt.imshow(gray_2, cmap='gray')\n",
        "plt.show()\n",
        "\n",
        "edge_detection_2 = [[0,0,-2.5,0,0],\n",
        "                    [0,0,-1,0,0],\n",
        "                    [-2.5,-1,12,-1,-2.5],\n",
        "                    [0,0,-1,0,0],\n",
        "                    [0,0,-2.5,0,0]]\n",
        "edge_detection_2 = np.array(edge_detection_2)\n",
        "\n",
        "# Filter the image using filter2D, which has inputs: (grayscale image, bit-depth, kernel)\n",
        "filtered_image_edges_2 = cv2.filter2D(gray_2, -1, edge_detection_2)\n",
        "\n",
        "plt.figure(figsize = (15,15))\n",
        "plt.imshow(filtered_image_edges_2, cmap='gray')\n",
        "plt.show()\n"
      ],
      "metadata": {
        "id": "JXp_hkljNx4W"
      },
      "execution_count": null,
      "outputs": []
    },
    {
      "cell_type": "code",
      "source": [],
      "metadata": {
        "id": "EO14474-Nx1_"
      },
      "execution_count": null,
      "outputs": []
    },
    {
      "cell_type": "code",
      "source": [],
      "metadata": {
        "id": "mmjFLTmoNxzg"
      },
      "execution_count": null,
      "outputs": []
    },
    {
      "cell_type": "code",
      "source": [],
      "metadata": {
        "id": "DEfeZIRdNxxD"
      },
      "execution_count": null,
      "outputs": []
    },
    {
      "cell_type": "code",
      "source": [],
      "metadata": {
        "id": "H9HRd0bINxut"
      },
      "execution_count": null,
      "outputs": []
    },
    {
      "cell_type": "code",
      "source": [],
      "metadata": {
        "id": "P5URDQoXNxsN"
      },
      "execution_count": null,
      "outputs": []
    },
    {
      "cell_type": "code",
      "source": [],
      "metadata": {
        "id": "Mm8MQ91oNxpw"
      },
      "execution_count": null,
      "outputs": []
    },
    {
      "cell_type": "code",
      "source": [],
      "metadata": {
        "id": "TM56bffaNxm5"
      },
      "execution_count": null,
      "outputs": []
    },
    {
      "cell_type": "code",
      "source": [],
      "metadata": {
        "id": "Oy6hfXRhNxkU"
      },
      "execution_count": null,
      "outputs": []
    }
  ]
}