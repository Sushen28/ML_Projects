{
  "cells": [
    {
      "cell_type": "markdown",
      "metadata": {
        "id": "view-in-github",
        "colab_type": "text"
      },
      "source": [
        "<a href=\"https://colab.research.google.com/github/Sushen28/ML_Projects/blob/main/NLP_Text_Classifier.ipynb\" target=\"_parent\"><img src=\"https://colab.research.google.com/assets/colab-badge.svg\" alt=\"Open In Colab\"/></a>"
      ]
    },
    {
      "cell_type": "markdown",
      "id": "df91a4b8",
      "metadata": {
        "id": "df91a4b8"
      },
      "source": [
        "# Classifying News Articles using Naive Bayes"
      ]
    },
    {
      "cell_type": "markdown",
      "id": "0e752854",
      "metadata": {
        "id": "0e752854"
      },
      "source": [
        "### **1. Create Dataset**"
      ]
    },
    {
      "cell_type": "code",
      "execution_count": null,
      "id": "5a85a9c9",
      "metadata": {
        "id": "5a85a9c9"
      },
      "outputs": [],
      "source": [
        "# to avoid NumPy's truncation of outputs when certain code blocks are generated\n",
        "import sys\n",
        "import numpy\n",
        "\n",
        "numpy.set_printoptions(threshold=sys.maxsize)"
      ]
    },
    {
      "cell_type": "code",
      "execution_count": null,
      "id": "2999b9a5",
      "metadata": {
        "id": "2999b9a5",
        "outputId": "467668e5-03d2-4ea1-c88a-d73414229fc7"
      },
      "outputs": [
        {
          "name": "stdout",
          "output_type": "stream",
          "text": [
            "['tech' 'business' 'sport' 'entertainment' 'politics']\n"
          ]
        },
        {
          "data": {
            "text/html": [
              "<div>\n",
              "<style scoped>\n",
              "    .dataframe tbody tr th:only-of-type {\n",
              "        vertical-align: middle;\n",
              "    }\n",
              "\n",
              "    .dataframe tbody tr th {\n",
              "        vertical-align: top;\n",
              "    }\n",
              "\n",
              "    .dataframe thead th {\n",
              "        text-align: right;\n",
              "    }\n",
              "</style>\n",
              "<table border=\"1\" class=\"dataframe\">\n",
              "  <thead>\n",
              "    <tr style=\"text-align: right;\">\n",
              "      <th></th>\n",
              "      <th>category</th>\n",
              "      <th>text</th>\n",
              "    </tr>\n",
              "  </thead>\n",
              "  <tbody>\n",
              "    <tr>\n",
              "      <th>0</th>\n",
              "      <td>tech</td>\n",
              "      <td>tv future in the hands of viewers with home th...</td>\n",
              "    </tr>\n",
              "    <tr>\n",
              "      <th>1</th>\n",
              "      <td>business</td>\n",
              "      <td>worldcom boss  left books alone  former worldc...</td>\n",
              "    </tr>\n",
              "    <tr>\n",
              "      <th>2</th>\n",
              "      <td>sport</td>\n",
              "      <td>tigers wary of farrell  gamble  leicester say ...</td>\n",
              "    </tr>\n",
              "    <tr>\n",
              "      <th>3</th>\n",
              "      <td>sport</td>\n",
              "      <td>yeading face newcastle in fa cup premiership s...</td>\n",
              "    </tr>\n",
              "    <tr>\n",
              "      <th>4</th>\n",
              "      <td>entertainment</td>\n",
              "      <td>ocean s twelve raids box office ocean s twelve...</td>\n",
              "    </tr>\n",
              "  </tbody>\n",
              "</table>\n",
              "</div>"
            ],
            "text/plain": [
              "        category                                               text\n",
              "0           tech  tv future in the hands of viewers with home th...\n",
              "1       business  worldcom boss  left books alone  former worldc...\n",
              "2          sport  tigers wary of farrell  gamble  leicester say ...\n",
              "3          sport  yeading face newcastle in fa cup premiership s...\n",
              "4  entertainment  ocean s twelve raids box office ocean s twelve..."
            ]
          },
          "execution_count": 4,
          "metadata": {},
          "output_type": "execute_result"
        }
      ],
      "source": [
        "import pandas as pd\n",
        "import seaborn as sns\n",
        "import os\n",
        "\n",
        "# Read data frame\n",
        "df = pd.read_csv('bbc-text.csv')\n",
        "\n",
        "# Description of the dataset\n",
        "df.shape\n",
        "categories = df['category'].unique()\n",
        "print(categories)\n",
        "df.head()"
      ]
    },
    {
      "cell_type": "markdown",
      "id": "acc98a1f",
      "metadata": {
        "id": "acc98a1f"
      },
      "source": [
        "### Prepare dataset\n",
        "   Split dataset into train data and test data using ```sklearn.model_selection.train_test_split()```.\n",
        "   \n",
        "   Set ```random_state``` parameter value to **237** to ensure reproducible results.\n",
        "   \n",
        "   Use ```pandas.DataFrame.shape``` to print the sizes of the train and test sets after splitting the data\n",
        "    "
      ]
    },
    {
      "cell_type": "code",
      "execution_count": null,
      "id": "2d7f8e1d",
      "metadata": {
        "id": "2d7f8e1d",
        "outputId": "ef7ff1c2-4859-41c4-9b62-194c9b769f12"
      },
      "outputs": [
        {
          "name": "stdout",
          "output_type": "stream",
          "text": [
            "TRAIN DATASET:  1557\n",
            "TEST DATASET: 668\n"
          ]
        }
      ],
      "source": [
        "from sklearn.model_selection import train_test_split\n",
        "import pandas as pd\n",
        "\n",
        "\n",
        "# Train-test split and vectorize\n",
        "X_train, X_test, y_train, y_test = train_test_split(df, df['category'], random_state = 237,stratify=df['category'], test_size=0.3, shuffle=True)\n",
        "\n",
        "print(\"TRAIN DATASET: \",X_train.shape[0])\n",
        "\n",
        "print(\"TEST DATASET:\",X_test.shape[0])"
      ]
    },
    {
      "cell_type": "markdown",
      "id": "0873e561",
      "metadata": {
        "id": "0873e561"
      },
      "source": [
        "### **2. Feature Extraction - Preparing  Inputs**"
      ]
    },
    {
      "cell_type": "code",
      "execution_count": null,
      "id": "9213dc68",
      "metadata": {
        "id": "9213dc68",
        "outputId": "061907b7-f8f6-46a0-9b08-f6668452ef51"
      },
      "outputs": [
        {
          "data": {
            "image/png": "[encoded data removed]",
            "text/plain": [
              "<Figure size 432x288 with 1 Axes>"
            ]
          },
          "metadata": {
            "needs_background": "light"
          },
          "output_type": "display_data"
        },
        {
          "data": {
            "image/png": "[encoded data removed]",
            "text/plain": [
              "<Figure size 432x288 with 1 Axes>"
            ]
          },
          "metadata": {
            "needs_background": "light"
          },
          "output_type": "display_data"
        }
      ],
      "source": [
        "import seaborn as sns\n",
        "import matplotlib.pyplot as plt\n",
        "\n",
        "\n",
        "sns.countplot(x = X_train['category'])\n",
        "plt.title(\"Train dataset\")\n",
        "plt.show()\n",
        "sns.countplot(x = X_test['category'])\n",
        "plt.title(\"Test dataset\")\n",
        "plt.show()\n"
      ]
    },
    {
      "cell_type": "markdown",
      "id": "04cd87eb",
      "metadata": {
        "id": "04cd87eb"
      },
      "source": [
        "### **3. Prepare Outputs/Labels**"
      ]
    },
    {
      "cell_type": "code",
      "execution_count": null,
      "id": "991cff92",
      "metadata": {
        "id": "991cff92",
        "outputId": "4c809d7a-db72-4d57-c87f-aba36f029ff7"
      },
      "outputs": [
        {
          "name": "stdout",
          "output_type": "stream",
          "text": [
            "Total Number of Unique Words in Train Data : 25457\n"
          ]
        }
      ],
      "source": [
        "from sklearn.feature_extraction.text import CountVectorizer\n",
        "from sklearn.preprocessing import normalize #normalize every feature\n",
        "\n",
        "text_vectorizer = CountVectorizer()\n",
        "train_text_ohe = text_vectorizer.fit_transform(X_train['text'])\n",
        "train_text_features = text_vectorizer.get_feature_names_out()\n",
        "train_text_fea_counts = train_text_ohe.sum(axis=0).A1\n",
        "\n",
        "text_fea_dict = dict(zip(list(train_text_features),train_text_fea_counts))\n",
        "\n",
        "print(\"Total Number of Unique Words in Train Data :\",len(train_text_features))\n",
        "\n",
        "\n",
        "\n",
        "train_text_ohe = normalize(train_text_ohe, axis=0)\n",
        "\n",
        "#we use the same vectorizer that was trained on train data\n",
        "test_text_ohe = text_vectorizer.transform(X_test['text'])\n",
        "\n",
        "#don't forget to normalize every feature\n",
        "test_text_ohe = normalize(test_text_ohe, axis=0)"
      ]
    },
    {
      "cell_type": "markdown",
      "id": "ae709f72",
      "metadata": {
        "id": "ae709f72"
      },
      "source": [
        "### **4. Model Training and Evaluation**\n",
        "Train the model using the training set. Once the model is trained, apply the model on the test set and evalaute the performance of the model by calculating accuracy and generating the confusion matrix."
      ]
    },
    {
      "cell_type": "code",
      "execution_count": null,
      "id": "9a190aa8",
      "metadata": {
        "id": "9a190aa8",
        "outputId": "34e51a8f-395c-4147-b239-5deb584249b7"
      },
      "outputs": [
        {
          "name": "stdout",
          "output_type": "stream",
          "text": [
            "The train log loss is: 0.04079024990954349\n",
            "The cross validation log loss is: 0.1852753776042579\n",
            "\n",
            " Accuracy Score\n",
            "Model Train Accuracy - 99.93577392421324\n",
            "Model Test Accuracy - 95.80838323353294\n"
          ]
        }
      ],
      "source": [
        "from sklearn.metrics import confusion_matrix, accuracy_score\n",
        "from sklearn.naive_bayes import MultinomialNB\n",
        "from sklearn.calibration import CalibratedClassifierCV\n",
        "from sklearn.naive_bayes import MultinomialNB\n",
        "from sklearn.metrics import log_loss\n",
        "\n",
        "clf = MultinomialNB()\n",
        "clf.fit(train_text_ohe, y_train)\n",
        "model_clf = CalibratedClassifierCV(clf, method=\"sigmoid\")\n",
        "model_clf.fit(train_text_ohe, y_train)\n",
        "predict_y = model_clf.predict_proba(train_text_ohe)\n",
        "\n",
        "print(\"The train log loss is:\",log_loss(y_train, predict_y, labels=clf.classes_, eps=1e-15))\n",
        "\n",
        "predict_y = model_clf.predict_proba(test_text_ohe)\n",
        "\n",
        "print(\"The cross validation log loss is:\",log_loss(y_test, predict_y, labels=clf.classes_, eps=1e-15))\n",
        "\n",
        "predicted_y = model_clf.predict(test_text_ohe)\n",
        "train_accuracy = (model_clf.score(train_text_ohe, y_train)*100)\n",
        "test_accuracy = (accuracy_score(predicted_y, y_test)*100)\n",
        "\n",
        "print(\"\\n Accuracy Score\")\n",
        "print(\"Model Train Accuracy -\",train_accuracy)\n",
        "print(\"Model Test Accuracy -\",test_accuracy)\n"
      ]
    },
    {
      "cell_type": "markdown",
      "id": "7fb463de",
      "metadata": {
        "id": "7fb463de"
      },
      "source": [
        "### **Establishing a baseline model**\n",
        "\n",
        "Baseline models are helpful for easy comparison of the models you build. These models are trained using simple heuristics or rules."
      ]
    },
    {
      "cell_type": "code",
      "execution_count": null,
      "id": "372d63b3",
      "metadata": {
        "id": "372d63b3",
        "outputId": "37efd0c8-df95-42b1-c824-67da360e250f"
      },
      "outputs": [
        {
          "name": "stdout",
          "output_type": "stream",
          "text": [
            "0.22904191616766467\n"
          ]
        }
      ],
      "source": [
        "# Baselines are simple heuristics to make predictions for a given task\n",
        "from sklearn.dummy import DummyClassifier\n",
        "from sklearn.metrics import accuracy_score\n",
        "# choose 'most-frequent class' as the baseline method\n",
        "baseline_model = DummyClassifier(strategy=\"most_frequent\")\n",
        "\n",
        "# fit the baseline model on the training data\n",
        "baseline_model.fit(X_train, y_train)\n",
        "\n",
        "# make predictions on the test data using the created baseline model\n",
        "baseline_preds = baseline_model.predict(X_test)\n",
        "\n",
        "# compute the accuracy of the baseline model\n",
        "print(accuracy_score(y_test, baseline_preds))"
      ]
    },
    {
      "cell_type": "code",
      "execution_count": null,
      "id": "aa800f6f",
      "metadata": {
        "id": "aa800f6f"
      },
      "outputs": [],
      "source": []
    }
  ],
  "metadata": {
    "kernelspec": {
      "display_name": "Python 3 (ipykernel)",
      "language": "python",
      "name": "python3"
    },
    "language_info": {
      "codemirror_mode": {
        "name": "ipython",
        "version": 3
      },
      "file_extension": ".py",
      "mimetype": "text/x-python",
      "name": "python",
      "nbconvert_exporter": "python",
      "pygments_lexer": "ipython3",
      "version": "3.9.9"
    },
    "colab": {
      "provenance": [],
      "include_colab_link": true
    }
  },
  "nbformat": 4,
  "nbformat_minor": 5
}